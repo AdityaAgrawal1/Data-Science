{
  "nbformat": 4,
  "nbformat_minor": 0,
  "metadata": {
    "colab": {
      "name": "LanguageDetectionModel.ipynb",
      "provenance": [],
      "collapsed_sections": [],
      "include_colab_link": true
    },
    "kernelspec": {
      "display_name": "Python 3",
      "language": "python",
      "name": "python3"
    },
    "language_info": {
      "codemirror_mode": {
        "name": "ipython",
        "version": 3
      },
      "file_extension": ".py",
      "mimetype": "text/x-python",
      "name": "python",
      "nbconvert_exporter": "python",
      "pygments_lexer": "ipython3",
      "version": "3.7.0"
    }
  },
  "cells": [
    {
      "cell_type": "markdown",
      "metadata": {
        "id": "view-in-github",
        "colab_type": "text"
      },
      "source": [
        "<a href=\"https://colab.research.google.com/github/silly-soul/Data-Science/blob/master/LanguageDetectionModel.ipynb\" target=\"_parent\"><img src=\"https://colab.research.google.com/assets/colab-badge.svg\" alt=\"Open In Colab\"/></a>"
      ]
    },
    {
      "cell_type": "code",
      "metadata": {
        "id": "N10q7IUYwyg3"
      },
      "source": [
        "import string\n",
        "import re\n",
        "import codecs\n",
        "import numpy as np\n",
        "import pandas as pd\n",
        "import seaborn as sns\n",
        "import matplotlib.pyplot as plt\n",
        "from sklearn import feature_extraction\n",
        "from sklearn import linear_model\n",
        "from sklearn import pipeline\n",
        "from sklearn.model_selection import train_test_split\n",
        "from sklearn import metrics\n",
        "import glob"
      ],
      "execution_count": 20,
      "outputs": []
    },
    {
      "cell_type": "code",
      "metadata": {
        "id": "OjCukVm1wyg4"
      },
      "source": [
        "#To merge data files into one text file\n",
        "# read_files = glob.glob(\"train\\English\\*\")\n",
        "\n",
        "# with open(\"english.txt\", \"wb\") as outfile:\n",
        "#     for f in read_files:\n",
        "#         with open(f, \"rb\") as infile:\n",
        "#             outfile.write(infile.read())"
      ],
      "execution_count": 22,
      "outputs": []
    },
    {
      "cell_type": "code",
      "metadata": {
        "id": "_OthrIoOwyg4"
      },
      "source": [
        "# #to remove html tags\n",
        "# infile = \"english.txt\"\n",
        "# outfile = \"train/train/english.txt\"\n",
        " \n",
        "# fin = open(infile,encoding=\"utf8\")\n",
        "# fout = open(outfile, \"w+\", encoding=\"utf8\")\n",
        "\n",
        "# for line in fin:\n",
        "#     line = re.sub(r\"<[^>]+>\",\"\",line)\n",
        "#     fout.write(line)\n",
        "# fin.close()\n",
        "# fout.close()"
      ],
      "execution_count": 23,
      "outputs": []
    },
    {
      "cell_type": "code",
      "metadata": {
        "colab": {
          "base_uri": "https://localhost:8080/",
          "height": 204
        },
        "id": "3S7F1_Ujwyg4",
        "outputId": "67928ed7-43dd-4936-b787-37c78de659c4"
      },
      "source": [
        "#Loading English Data\n",
        "eng_df = pd.read_csv(\"english.txt\",\"utf-8\",header=None,engine ='python', names=[\"English\"])\n",
        "eng_df.head()"
      ],
      "execution_count": 24,
      "outputs": [
        {
          "output_type": "execute_result",
          "data": {
            "text/html": [
              "<div>\n",
              "<style scoped>\n",
              "    .dataframe tbody tr th:only-of-type {\n",
              "        vertical-align: middle;\n",
              "    }\n",
              "\n",
              "    .dataframe tbody tr th {\n",
              "        vertical-align: top;\n",
              "    }\n",
              "\n",
              "    .dataframe thead th {\n",
              "        text-align: right;\n",
              "    }\n",
              "</style>\n",
              "<table border=\"1\" class=\"dataframe\">\n",
              "  <thead>\n",
              "    <tr style=\"text-align: right;\">\n",
              "      <th></th>\n",
              "      <th>English</th>\n",
              "    </tr>\n",
              "  </thead>\n",
              "  <tbody>\n",
              "    <tr>\n",
              "      <th>0</th>\n",
              "      <td>Tweet text: Putin, on not being included in th...</td>\n",
              "    </tr>\n",
              "    <tr>\n",
              "      <th>1</th>\n",
              "      <td>Video transcription:</td>\n",
              "    </tr>\n",
              "    <tr>\n",
              "      <th>2</th>\n",
              "      <td>Audience member: Practically all of the countr...</td>\n",
              "    </tr>\n",
              "    <tr>\n",
              "      <th>3</th>\n",
              "      <td>Putin: (laughing) Listen, it’s offensive!</td>\n",
              "    </tr>\n",
              "    <tr>\n",
              "      <th>4</th>\n",
              "      <td>Several members of the Russian Duma (Assembly)...</td>\n",
              "    </tr>\n",
              "  </tbody>\n",
              "</table>\n",
              "</div>"
            ],
            "text/plain": [
              "                                             English\n",
              "0  Tweet text: Putin, on not being included in th...\n",
              "1                               Video transcription:\n",
              "2  Audience member: Practically all of the countr...\n",
              "3          Putin: (laughing) Listen, it’s offensive!\n",
              "4  Several members of the Russian Duma (Assembly)..."
            ]
          },
          "metadata": {
            "tags": []
          },
          "execution_count": 24
        }
      ]
    },
    {
      "cell_type": "code",
      "metadata": {
        "colab": {
          "base_uri": "https://localhost:8080/",
          "height": 204
        },
        "id": "PdiAiMmdwyg7",
        "outputId": "1a5a3207-6a67-4417-e4ef-0e8f8b893ee6"
      },
      "source": [
        "#Loading German Data\n",
        "ger_df =pd.read_csv(\"german.txt\",\"utf-8\",header=None,engine ='python', names=[\"German\"])\n",
        "ger_df.head()"
      ],
      "execution_count": 25,
      "outputs": [
        {
          "output_type": "execute_result",
          "data": {
            "text/html": [
              "<div>\n",
              "<style scoped>\n",
              "    .dataframe tbody tr th:only-of-type {\n",
              "        vertical-align: middle;\n",
              "    }\n",
              "\n",
              "    .dataframe tbody tr th {\n",
              "        vertical-align: top;\n",
              "    }\n",
              "\n",
              "    .dataframe thead th {\n",
              "        text-align: right;\n",
              "    }\n",
              "</style>\n",
              "<table border=\"1\" class=\"dataframe\">\n",
              "  <thead>\n",
              "    <tr style=\"text-align: right;\">\n",
              "      <th></th>\n",
              "      <th>German</th>\n",
              "    </tr>\n",
              "  </thead>\n",
              "  <tbody>\n",
              "    <tr>\n",
              "      <th>0</th>\n",
              "      <td>Rund 4.000 inhaftierte Iraner, die derzeit auf...</td>\n",
              "    </tr>\n",
              "    <tr>\n",
              "      <th>1</th>\n",
              "      <td>Die Anordnung wurde am 9. Januar 2018 vom Leit...</td>\n",
              "    </tr>\n",
              "    <tr>\n",
              "      <th>2</th>\n",
              "      <td>Am 14. Oktober 2017 hat der Wächterrat, welche...</td>\n",
              "    </tr>\n",
              "    <tr>\n",
              "      <th>3</th>\n",
              "      <td>Dieser Schritt wurde nun unternommen, nach Jah...</td>\n",
              "    </tr>\n",
              "    <tr>\n",
              "      <th>4</th>\n",
              "      <td>Vor der richterlichen Anordnung habe es im Ira...</td>\n",
              "    </tr>\n",
              "  </tbody>\n",
              "</table>\n",
              "</div>"
            ],
            "text/plain": [
              "                                              German\n",
              "0  Rund 4.000 inhaftierte Iraner, die derzeit auf...\n",
              "1  Die Anordnung wurde am 9. Januar 2018 vom Leit...\n",
              "2  Am 14. Oktober 2017 hat der Wächterrat, welche...\n",
              "3  Dieser Schritt wurde nun unternommen, nach Jah...\n",
              "4  Vor der richterlichen Anordnung habe es im Ira..."
            ]
          },
          "metadata": {
            "tags": []
          },
          "execution_count": 25
        }
      ]
    },
    {
      "cell_type": "code",
      "metadata": {
        "colab": {
          "base_uri": "https://localhost:8080/",
          "height": 204
        },
        "id": "8R5ZQCNiwyg8",
        "outputId": "9f374a63-e203-4618-ec12-2b5443cdbc51"
      },
      "source": [
        "#Loading French Data\n",
        "fre_df =pd.read_csv(\"french.txt\",\"utf-8\",header=None,engine ='python', names=[\"French\"])\n",
        "fre_df.head()"
      ],
      "execution_count": 26,
      "outputs": [
        {
          "output_type": "execute_result",
          "data": {
            "text/html": [
              "<div>\n",
              "<style scoped>\n",
              "    .dataframe tbody tr th:only-of-type {\n",
              "        vertical-align: middle;\n",
              "    }\n",
              "\n",
              "    .dataframe tbody tr th {\n",
              "        vertical-align: top;\n",
              "    }\n",
              "\n",
              "    .dataframe thead th {\n",
              "        text-align: right;\n",
              "    }\n",
              "</style>\n",
              "<table border=\"1\" class=\"dataframe\">\n",
              "  <thead>\n",
              "    <tr style=\"text-align: right;\">\n",
              "      <th></th>\n",
              "      <th>French</th>\n",
              "    </tr>\n",
              "  </thead>\n",
              "  <tbody>\n",
              "    <tr>\n",
              "      <th>0</th>\n",
              "      <td>Ana Frenkel, membre de la communauté juive de ...</td>\n",
              "    </tr>\n",
              "    <tr>\n",
              "      <th>1</th>\n",
              "      <td>Il les a organisé, il allait de maison en mais...</td>\n",
              "    </tr>\n",
              "    <tr>\n",
              "      <th>2</th>\n",
              "      <td>Le blogueur Velimir Mladenovic a cité sur son ...</td>\n",
              "    </tr>\n",
              "    <tr>\n",
              "      <th>3</th>\n",
              "      <td>Voici ci-dessous des commentaires sous le bill...</td>\n",
              "    </tr>\n",
              "    <tr>\n",
              "      <th>4</th>\n",
              "      <td>Sesili dit :</td>\n",
              "    </tr>\n",
              "  </tbody>\n",
              "</table>\n",
              "</div>"
            ],
            "text/plain": [
              "                                              French\n",
              "0  Ana Frenkel, membre de la communauté juive de ...\n",
              "1  Il les a organisé, il allait de maison en mais...\n",
              "2  Le blogueur Velimir Mladenovic a cité sur son ...\n",
              "3  Voici ci-dessous des commentaires sous le bill...\n",
              "4                                       Sesili dit :"
            ]
          },
          "metadata": {
            "tags": []
          },
          "execution_count": 26
        }
      ]
    },
    {
      "cell_type": "code",
      "metadata": {
        "colab": {
          "base_uri": "https://localhost:8080/",
          "height": 204
        },
        "id": "eCUoI1Rpwyg8",
        "outputId": "f314e124-c0f5-4483-c58e-4b7548eb4e87"
      },
      "source": [
        "#Loading Spanish Data\n",
        "spa_df =pd.read_csv(\"spanish.txt\",\"utf-8\",header=None,engine ='python', names=[\"Spanish\"])\n",
        "spa_df.head()"
      ],
      "execution_count": 27,
      "outputs": [
        {
          "output_type": "execute_result",
          "data": {
            "text/html": [
              "<div>\n",
              "<style scoped>\n",
              "    .dataframe tbody tr th:only-of-type {\n",
              "        vertical-align: middle;\n",
              "    }\n",
              "\n",
              "    .dataframe tbody tr th {\n",
              "        vertical-align: top;\n",
              "    }\n",
              "\n",
              "    .dataframe thead th {\n",
              "        text-align: right;\n",
              "    }\n",
              "</style>\n",
              "<table border=\"1\" class=\"dataframe\">\n",
              "  <thead>\n",
              "    <tr style=\"text-align: right;\">\n",
              "      <th></th>\n",
              "      <th>Spanish</th>\n",
              "    </tr>\n",
              "  </thead>\n",
              "  <tbody>\n",
              "    <tr>\n",
              "      <th>0</th>\n",
              "      <td>El periodista marroquí Hamid El Mahdoui inició...</td>\n",
              "    </tr>\n",
              "    <tr>\n",
              "      <th>1</th>\n",
              "      <td>Nueva herramienta que busca reducir abuso en l...</td>\n",
              "    </tr>\n",
              "    <tr>\n",
              "      <th>2</th>\n",
              "      <td>A mediados de septiembre, un grupo de programa...</td>\n",
              "    </tr>\n",
              "    <tr>\n",
              "      <th>3</th>\n",
              "      <td>Nuevas investigaciones</td>\n",
              "    </tr>\n",
              "    <tr>\n",
              "      <th>4</th>\n",
              "      <td>Uso de los medios en el Medio Oriente, 2017 - ...</td>\n",
              "    </tr>\n",
              "  </tbody>\n",
              "</table>\n",
              "</div>"
            ],
            "text/plain": [
              "                                             Spanish\n",
              "0  El periodista marroquí Hamid El Mahdoui inició...\n",
              "1  Nueva herramienta que busca reducir abuso en l...\n",
              "2  A mediados de septiembre, un grupo de programa...\n",
              "3                             Nuevas investigaciones\n",
              "4  Uso de los medios en el Medio Oriente, 2017 - ..."
            ]
          },
          "metadata": {
            "tags": []
          },
          "execution_count": 27
        }
      ]
    },
    {
      "cell_type": "code",
      "metadata": {
        "colab": {
          "base_uri": "https://localhost:8080/",
          "height": 204
        },
        "id": "9rrYSni0wyg8",
        "outputId": "e6d7f3a2-388e-48bf-d2a1-d64df00bd5da"
      },
      "source": [
        "#Loading Chinese Data\n",
        "chi_df =pd.read_csv(\"chinese.txt\",\"utf-8\",header=None,engine ='python', names=[\"Chinese\"])\n",
        "chi_df.head()"
      ],
      "execution_count": 28,
      "outputs": [
        {
          "output_type": "execute_result",
          "data": {
            "text/html": [
              "<div>\n",
              "<style scoped>\n",
              "    .dataframe tbody tr th:only-of-type {\n",
              "        vertical-align: middle;\n",
              "    }\n",
              "\n",
              "    .dataframe tbody tr th {\n",
              "        vertical-align: top;\n",
              "    }\n",
              "\n",
              "    .dataframe thead th {\n",
              "        text-align: right;\n",
              "    }\n",
              "</style>\n",
              "<table border=\"1\" class=\"dataframe\">\n",
              "  <thead>\n",
              "    <tr style=\"text-align: right;\">\n",
              "      <th></th>\n",
              "      <th>Chinese</th>\n",
              "    </tr>\n",
              "  </thead>\n",
              "  <tbody>\n",
              "    <tr>\n",
              "      <th>0</th>\n",
              "      <td>「Da Da Ding：其他女性们」</td>\n",
              "    </tr>\n",
              "    <tr>\n",
              "      <th>1</th>\n",
              "      <td>成功的女运动员们并非是在印度唯一被严重忽视的女性。一个叫做Epic Spirtual的You...</td>\n",
              "    </tr>\n",
              "    <tr>\n",
              "      <th>2</th>\n",
              "      <td>在写这则文章时，这段影片的点阅人次已经超过85,000。片中显示，来自低收入家庭而辛苦工作的...</td>\n",
              "    </tr>\n",
              "    <tr>\n",
              "      <th>3</th>\n",
              "      <td>另一群印度女性在影片中被描绘出来—她们是数以千计的劳工之一，参与著像是农事或建设等活动（她们...</td>\n",
              "    </tr>\n",
              "    <tr>\n",
              "      <th>4</th>\n",
              "      <td>一些推特用户兴奋地对该恶搞影片表示回应：</td>\n",
              "    </tr>\n",
              "  </tbody>\n",
              "</table>\n",
              "</div>"
            ],
            "text/plain": [
              "                                             Chinese\n",
              "0                                 「Da Da Ding：其他女性们」\n",
              "1  成功的女运动员们并非是在印度唯一被严重忽视的女性。一个叫做Epic Spirtual的You...\n",
              "2  在写这则文章时，这段影片的点阅人次已经超过85,000。片中显示，来自低收入家庭而辛苦工作的...\n",
              "3  另一群印度女性在影片中被描绘出来—她们是数以千计的劳工之一，参与著像是农事或建设等活动（她们...\n",
              "4                               一些推特用户兴奋地对该恶搞影片表示回应："
            ]
          },
          "metadata": {
            "tags": []
          },
          "execution_count": 28
        }
      ]
    },
    {
      "cell_type": "code",
      "metadata": {
        "colab": {
          "base_uri": "https://localhost:8080/"
        },
        "id": "i563Ztn1wyg8",
        "outputId": "9114fba0-b940-49b5-984f-da12dbffad97"
      },
      "source": [
        "for char in string.punctuation:\n",
        "    print(char,end=\" \")\n",
        "translate_table =dict((ord(char),None) for char in string.punctuation)"
      ],
      "execution_count": 29,
      "outputs": [
        {
          "output_type": "stream",
          "text": [
            "! \" # $ % & ' ( ) * + , - . / : ; < = > ? @ [ \\ ] ^ _ ` { | } ~ "
          ],
          "name": "stdout"
        }
      ]
    },
    {
      "cell_type": "code",
      "metadata": {
        "id": "He53O-NZwyg8"
      },
      "source": [
        "for i,line in eng_df.iterrows():\n",
        "    line = line['English']\n",
        "    if len(line) !=0:\n",
        "        line = line.lower()\n",
        "        line = re.sub(r\"\\d+\",\"\",line)\n",
        "        line = line.translate(translate_table)\n",
        "        data_eng.append(line)\n",
        "        lang_eng.append(\"English\")"
      ],
      "execution_count": 30,
      "outputs": []
    },
    {
      "cell_type": "code",
      "metadata": {
        "id": "MCsDGH_wwyg9"
      },
      "source": [
        "for i,line in ger_df.iterrows():\n",
        "    line = line['German']\n",
        "    if len(line) !=0:\n",
        "        line = line.lower()\n",
        "        line =re.sub(r\"\\d+\",\"\",line)\n",
        "        line = line.translate(translate_table)\n",
        "        data_ger.append(line)\n",
        "        lang_ger.append(\"German\")"
      ],
      "execution_count": 31,
      "outputs": []
    },
    {
      "cell_type": "code",
      "metadata": {
        "id": "FYZ41rd9wyg9"
      },
      "source": [
        "\n",
        "for i,line in fre_df.iterrows():\n",
        "    line = line['French']\n",
        "    if len(line) !=0:\n",
        "        line = line.lower()\n",
        "        line =re.sub(r\"\\d+\",\"\",line)\n",
        "        line = line.translate(translate_table)\n",
        "        data_fre.append(line)\n",
        "        lang_fre.append(\"French\")"
      ],
      "execution_count": 32,
      "outputs": []
    },
    {
      "cell_type": "code",
      "metadata": {
        "id": "k1bvxMvRwyg9"
      },
      "source": [
        "for i,line in spa_df.iterrows():\n",
        "    line = line['Spanish']\n",
        "    if len(line) !=0:\n",
        "        line = line.lower()\n",
        "        line =re.sub(r\"\\d+\",\"\",line)\n",
        "        line = line.translate(translate_table)\n",
        "        data_spa.append(line)\n",
        "        lang_spa.append(\"Spanish\")"
      ],
      "execution_count": 33,
      "outputs": []
    },
    {
      "cell_type": "code",
      "metadata": {
        "id": "_dHbEjLDwyg9"
      },
      "source": [
        "for i,line in chi_df.iterrows():\n",
        "    line = line['Chinese']\n",
        "    if len(line) !=0:\n",
        "        line = line.lower()\n",
        "        line =re.sub(r\"\\d+\",\"\",line)\n",
        "        line = re.sub(r\"[a-zA-Z]+\",\"\", line)\n",
        "        line = line.translate(translate_table)\n",
        "        data_chi.append(line)\n",
        "        lang_chi.append(\"Chinese (Traditional)\")"
      ],
      "execution_count": 34,
      "outputs": []
    },
    {
      "cell_type": "code",
      "metadata": {
        "colab": {
          "base_uri": "https://localhost:8080/"
        },
        "id": "j9TbBE3mwyg9",
        "outputId": "e20a1723-9441-44c2-e732-9ba15293d3c9"
      },
      "source": [
        "df = pd.DataFrame({\"Text\":data_eng+data_spa+data_fre+data_ger+data_chi, \"language\":lang_eng+lang_spa+lang_fre+lang_ger+lang_chi})\n",
        "print(df.shape)"
      ],
      "execution_count": 41,
      "outputs": [
        {
          "output_type": "stream",
          "text": [
            "(263877, 2)\n"
          ],
          "name": "stdout"
        }
      ]
    },
    {
      "cell_type": "code",
      "metadata": {
        "colab": {
          "base_uri": "https://localhost:8080/"
        },
        "id": "qXMHSeZewyg9",
        "outputId": "7ad6d271-d528-41da-c643-69428103f91a"
      },
      "source": [
        "X, y=df.iloc[:,0],df.iloc[:,1]\n",
        "X_train,X_test,y_train,y_test=train_test_split(X,y,test_size=0.2,random_state=0)\n",
        "print(X_train.shape)\n",
        "print(X_test.shape)\n",
        "print(y_train.shape)\n",
        "print(y_test.shape)"
      ],
      "execution_count": 42,
      "outputs": [
        {
          "output_type": "stream",
          "text": [
            "(211101,)\n",
            "(52776,)\n",
            "(211101,)\n",
            "(52776,)\n"
          ],
          "name": "stdout"
        }
      ]
    },
    {
      "cell_type": "code",
      "metadata": {
        "id": "YxlipbUAwyg9",
        "colab": {
          "base_uri": "https://localhost:8080/"
        },
        "outputId": "7ebf449e-cfa5-4f34-f0a0-dc08722f6295"
      },
      "source": [
        "vectorizer = feature_extraction.text.TfidfVectorizer(ngram_range=(1,3),analyzer='char')\n",
        "pipe_lr_r13=pipeline.Pipeline([('vectorizer',vectorizer),('clf',linear_model.LogisticRegression(max_iter=5000))])\n",
        "pipe_lr_r13.fit(X_train, y_train)"
      ],
      "execution_count": 55,
      "outputs": [
        {
          "output_type": "execute_result",
          "data": {
            "text/plain": [
              "Pipeline(memory=None,\n",
              "         steps=[('vectorizer',\n",
              "                 TfidfVectorizer(analyzer='char', binary=False,\n",
              "                                 decode_error='strict',\n",
              "                                 dtype=<class 'numpy.float64'>,\n",
              "                                 encoding='utf-8', input='content',\n",
              "                                 lowercase=True, max_df=1.0, max_features=None,\n",
              "                                 min_df=1, ngram_range=(1, 3), norm='l2',\n",
              "                                 preprocessor=None, smooth_idf=True,\n",
              "                                 stop_words=None, strip_accents=None,\n",
              "                                 sublinear_tf=False,\n",
              "                                 token_pattern='(?u)\\\\b\\\\w\\\\w+\\\\b',\n",
              "                                 tokenizer=None, use_idf=True,\n",
              "                                 vocabulary=None)),\n",
              "                ('clf',\n",
              "                 LogisticRegression(C=1.0, class_weight=None, dual=False,\n",
              "                                    fit_intercept=True, intercept_scaling=1,\n",
              "                                    l1_ratio=None, max_iter=5000,\n",
              "                                    multi_class='auto', n_jobs=None,\n",
              "                                    penalty='l2', random_state=None,\n",
              "                                    solver='lbfgs', tol=0.0001, verbose=0,\n",
              "                                    warm_start=False))],\n",
              "         verbose=False)"
            ]
          },
          "metadata": {
            "tags": []
          },
          "execution_count": 55
        }
      ]
    },
    {
      "cell_type": "code",
      "metadata": {
        "id": "cIsFF7lOwyg-",
        "colab": {
          "base_uri": "https://localhost:8080/"
        },
        "outputId": "6ddbbfce-fb12-466b-f6f2-ff9b8018062f"
      },
      "source": [
        "y_predicted=pipe_lr_r13.predict(X_test)\n",
        "acc=(metrics.accuracy_score(y_test, y_predicted))*100\n",
        "print(acc,'%')"
      ],
      "execution_count": 56,
      "outputs": [
        {
          "output_type": "stream",
          "text": [
            "98.61490071244505 %\n"
          ],
          "name": "stdout"
        }
      ]
    },
    {
      "cell_type": "code",
      "metadata": {
        "id": "1H-I1RuEwyg-",
        "colab": {
          "base_uri": "https://localhost:8080/"
        },
        "outputId": "08590549-c40b-4fdc-9a49-c8b6e7b242af"
      },
      "source": [
        "matrix=metrics.confusion_matrix(y_test, y_predicted)\n",
        "languages=set(y_train)\n",
        "cm_df=pd.DataFrame(matrix,languages,languages)\n",
        "print('Confusion Matrix : \\n', matrix)"
      ],
      "execution_count": 57,
      "outputs": [
        {
          "output_type": "stream",
          "text": [
            "Confusion Matrix : \n",
            " [[ 4218     0     0     0     0]\n",
            " [   13 17140    18     0    91]\n",
            " [   30   129 13600     0    56]\n",
            " [    4    16     4  1071     3]\n",
            " [  169   179    18     1 16016]]\n"
          ],
          "name": "stdout"
        }
      ]
    },
    {
      "cell_type": "code",
      "metadata": {
        "colab": {
          "base_uri": "https://localhost:8080/",
          "height": 577
        },
        "id": "h2Zm1fGMCGpl",
        "outputId": "0521eb91-ab8a-40cd-8332-d878e3694892"
      },
      "source": [
        "plt.figure(figsize=(20,10))  \n",
        "sns.heatmap(cm_df, annot=True,fmt='d')"
      ],
      "execution_count": 58,
      "outputs": [
        {
          "output_type": "execute_result",
          "data": {
            "text/plain": [
              "<matplotlib.axes._subplots.AxesSubplot at 0x7f3676dba358>"
            ]
          },
          "metadata": {
            "tags": []
          },
          "execution_count": 58
        },
        {
          "output_type": "display_data",
          "data": {
            "image/png": "[encoded data removed]",
            "text/plain": [
              "<Figure size 1440x720 with 2 Axes>"
            ]
          },
          "metadata": {
            "tags": [],
            "needs_background": "light"
          }
        }
      ]
    },
    {
      "cell_type": "code",
      "metadata": {
        "id": "W70hZtnuwyg-"
      },
      "source": [
        "import pickle\n",
        "#persisit model so that it can be used by different consumers\n",
        "lrFile =open('LRModel.pckl', 'wb')\n",
        "pickle.dump(pipe_lr_r13, lrFile)\n",
        "lrFile.close()"
      ],
      "execution_count": 59,
      "outputs": []
    },
    {
      "cell_type": "code",
      "metadata": {
        "id": "p6wXiCeWwyg-"
      },
      "source": [
        "global lrLangDetectModel\n",
        "lrLangDetectFile =open('LRModel.pckl','rb')\n",
        "lrLangDetectModel = pickle.load(lrLangDetectFile)\n",
        "lrLangDetectFile.close()"
      ],
      "execution_count": 60,
      "outputs": []
    },
    {
      "cell_type": "code",
      "metadata": {
        "id": "ZI8EibUewyg-"
      },
      "source": [
        "def lang_detect(text):\n",
        "    import numpy as np\n",
        "    import string\n",
        "    import re\n",
        "    import pickle\n",
        "    translate_table=dict((ord(char), None) for char in string.punctuation)\n",
        "    \n",
        "    global lrLangDetectModel\n",
        "    lrLangDetectFile =open('LRModel.pckl','rb')\n",
        "    lrLangDetectModel = pickle.load(lrLangDetectFile)\n",
        "    lrLangDetectFile.close()\n",
        "    \n",
        "    text=\" \".join(text.split())\n",
        "    text=text.lower()\n",
        "    text =re.sub(r\"\\d+\",\"\",text)\n",
        "    text=text.translate(translate_table)\n",
        "    pred =lrLangDetectModel.predict([text])\n",
        "    prob = lrLangDetectModel.predict_proba([text])\n",
        "    return pred[0]\n",
        "    "
      ],
      "execution_count": 48,
      "outputs": []
    },
    {
      "cell_type": "code",
      "metadata": {
        "id": "xDD6P2Igwyg-",
        "colab": {
          "base_uri": "https://localhost:8080/",
          "height": 35
        },
        "outputId": "e3622411-b015-4b8d-ee84-e4e7f11eb6c2"
      },
      "source": [
        "lang_detect(\"boy\")"
      ],
      "execution_count": 67,
      "outputs": [
        {
          "output_type": "execute_result",
          "data": {
            "application/vnd.google.colaboratory.intrinsic+json": {
              "type": "string"
            },
            "text/plain": [
              "'English'"
            ]
          },
          "metadata": {
            "tags": []
          },
          "execution_count": 67
        }
      ]
    },
    {
      "cell_type": "code",
      "metadata": {
        "id": "nwosjiJRwyg_",
        "colab": {
          "base_uri": "https://localhost:8080/",
          "height": 35
        },
        "outputId": "584e5f5d-6d61-43a8-c47d-a830d198e2ee"
      },
      "source": [
        "lang_detect(\"Bonjour\")"
      ],
      "execution_count": 64,
      "outputs": [
        {
          "output_type": "execute_result",
          "data": {
            "application/vnd.google.colaboratory.intrinsic+json": {
              "type": "string"
            },
            "text/plain": [
              "'French'"
            ]
          },
          "metadata": {
            "tags": []
          },
          "execution_count": 64
        }
      ]
    },
    {
      "cell_type": "code",
      "metadata": {
        "colab": {
          "base_uri": "https://localhost:8080/",
          "height": 35
        },
        "id": "RWgfluXYBCZC",
        "outputId": "d6f546af-e2f3-4ec1-cb57-e007cd302e9d"
      },
      "source": [
        "lang_detect(\"una casa pequeña\")"
      ],
      "execution_count": 65,
      "outputs": [
        {
          "output_type": "execute_result",
          "data": {
            "application/vnd.google.colaboratory.intrinsic+json": {
              "type": "string"
            },
            "text/plain": [
              "'Spanish'"
            ]
          },
          "metadata": {
            "tags": []
          },
          "execution_count": 65
        }
      ]
    },
    {
      "cell_type": "code",
      "metadata": {
        "id": "FgJx7r7Nwyg_",
        "colab": {
          "base_uri": "https://localhost:8080/",
          "height": 35
        },
        "outputId": "d060f4c2-98da-46c4-9da5-26aa51c778df"
      },
      "source": [
        "lang_detect(\"und es wird\")"
      ],
      "execution_count": 68,
      "outputs": [
        {
          "output_type": "execute_result",
          "data": {
            "application/vnd.google.colaboratory.intrinsic+json": {
              "type": "string"
            },
            "text/plain": [
              "'German'"
            ]
          },
          "metadata": {
            "tags": []
          },
          "execution_count": 68
        }
      ]
    },
    {
      "cell_type": "code",
      "metadata": {
        "id": "wg0fU_6lwyg_",
        "colab": {
          "base_uri": "https://localhost:8080/",
          "height": 35
        },
        "outputId": "4892c386-bd81-4d29-f956-7238c5e74d06"
      },
      "source": [
        "lang_detect(\"成功的女运动员们并非是在印度唯\")"
      ],
      "execution_count": 69,
      "outputs": [
        {
          "output_type": "execute_result",
          "data": {
            "application/vnd.google.colaboratory.intrinsic+json": {
              "type": "string"
            },
            "text/plain": [
              "'Chinese (Traditional)'"
            ]
          },
          "metadata": {
            "tags": []
          },
          "execution_count": 69
        }
      ]
    }
  ]
}